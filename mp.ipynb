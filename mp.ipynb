{
 "metadata": {
  "name": "",
  "signature": "sha256:54b17fdd43cce980409587e9035d58b4618c12db8c1ef2acc5c58ffd843811ee"
 },
 "nbformat": 3,
 "nbformat_minor": 0,
 "worksheets": [
  {
   "cells": [
    {
     "cell_type": "heading",
     "level": 1,
     "metadata": {},
     "source": [
      "Matching pursuit"
     ]
    },
    {
     "cell_type": "heading",
     "level": 2,
     "metadata": {},
     "source": [
      "py-pursuit"
     ]
    },
    {
     "cell_type": "markdown",
     "metadata": {},
     "source": [
      "From [Leif Johnson's py-pursuit project](https://github.com/lmjohns3/py-pursuit)\n",
      "\n",
      "Installed OK with `setup.py` *after this patch to `setup.py`*:\n",
      "\n",
      "    from numpy.distutils.misc_util import get_numpy_include_dirs\n",
      "    include_dirs=get_numpy_include_dirs(),\n",
      "\n",
      "He seems more concerned with images and sound, and with reconstruction. I don't understand how to use it.\n",
      "\n",
      "[Here's one of his tests](https://github.com/lmjohns3/py-pursuit/blob/master/test/sound.py)"
     ]
    },
    {
     "cell_type": "heading",
     "level": 2,
     "metadata": {},
     "source": [
      "Others"
     ]
    },
    {
     "cell_type": "markdown",
     "metadata": {},
     "source": [
      "####PyMP\n",
      "\n",
      "- `pip install pypursuit`: (is correct name) requires fftw-3, can't compile\n",
      "- https://github.com/mmoussallam/PyMP\n",
      "- http://mmoussallam.github.io/PyMP/example.html\n",
      "\n",
      "####mptk\n",
      "\n",
      "- apparently has a python wrapper\n",
      "- http://mptk.irisa.fr/\n",
      "- https://github.com/danstowell/mptk\n",
      "- http://media.aau.dk/null_space_pursuits/2013/03/mptk-in-python-basics.html\n"
     ]
    },
    {
     "cell_type": "code",
     "collapsed": false,
     "input": [],
     "language": "python",
     "metadata": {},
     "outputs": []
    }
   ],
   "metadata": {}
  }
 ]
}