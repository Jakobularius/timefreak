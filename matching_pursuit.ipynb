{
 "metadata": {
  "name": "",
  "signature": "sha256:567a50b05fd36604e673398b51fd8b892a3ddb7332dbb9a8c3dd7ae81e8d7c96"
 },
 "nbformat": 3,
 "nbformat_minor": 0,
 "worksheets": [
  {
   "cells": [
    {
     "cell_type": "heading",
     "level": 1,
     "metadata": {},
     "source": [
      "Matching pursuit"
     ]
    },
    {
     "cell_type": "heading",
     "level": 2,
     "metadata": {},
     "source": [
      "py-pursuit"
     ]
    },
    {
     "cell_type": "markdown",
     "metadata": {},
     "source": [
      "From [Leif Johnson's py-pursuit project](https://github.com/lmjohns3/py-pursuit)\n",
      "\n",
      "He seems more concerned with images and sound, and with reconstruction. I don't understand how to use it.\n",
      "\n",
      "[Here's one of his tests](https://github.com/lmjohns3/py-pursuit/blob/master/test/sound.py)"
     ]
    },
    {
     "cell_type": "code",
     "collapsed": false,
     "input": [],
     "language": "python",
     "metadata": {},
     "outputs": []
    }
   ],
   "metadata": {}
  }
 ]
}