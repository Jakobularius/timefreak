{
 "metadata": {
  "name": "",
  "signature": "sha256:ab4f78dfd05757c49bf2e093515e49e4a2c720fd82c39b6145c4a6c6b7e21f92"
 },
 "nbformat": 3,
 "nbformat_minor": 0,
 "worksheets": [
  {
   "cells": [
    {
     "cell_type": "markdown",
     "metadata": {},
     "source": [
      "#GFT\n",
      "\n",
      "The general Fourier transform, implemented by `pyfst` from UofC, [PyGFT](http://sourceforge.net/projects/fst-uofc/files/).\n",
      "\n",
      "This is mainly for the S-transform. It depends on `fftw`, which must be installed first."
     ]
    },
    {
     "cell_type": "code",
     "collapsed": false,
     "input": [
      "import numpy as np\n",
      "import matplotlib.pyplot as plt\n",
      "%matplotlib inline"
     ],
     "language": "python",
     "metadata": {},
     "outputs": [],
     "prompt_number": 1
    },
    {
     "cell_type": "code",
     "collapsed": false,
     "input": [
      "import PyGFT as gft"
     ],
     "language": "python",
     "metadata": {},
     "outputs": [],
     "prompt_number": 2
    },
    {
     "cell_type": "markdown",
     "metadata": {},
     "source": [
      "## Examples\n",
      "\n",
      "See [Built-in examples](#Built-in%20examples) below.\n",
      "\n",
      "Here's an attempt at the one in `examples.py`:"
     ]
    },
    {
     "cell_type": "code",
     "collapsed": false,
     "input": [
      "# Create a signal\n",
      "N = 256\n",
      "x = np.arange(0,1,1./N)\n",
      "signal = np.zeros(len(x), np.complex128)\n",
      "\n",
      "# Make our signal 1 in the middle, zero elsewhere\n",
      "signal[N/2] = 1.0\n",
      "\n",
      "# Do the GFT on the signal\n",
      "SIGNAL = gft.gft1d(signal, 'gaussian')\n",
      "\n",
      "SIGNAL[:5]"
     ],
     "language": "python",
     "metadata": {},
     "outputs": [
      {
       "metadata": {},
       "output_type": "pyout",
       "prompt_number": 3,
       "text": [
        "array([ 0.00012227 +6.50521303e-19j,  0.00012197 -1.20133346e-05j,\n",
        "        0.00012108 -2.40845559e-05j,  0.00011957 -3.62726693e-05j,\n",
        "        0.00011742 -4.86389636e-05j])"
       ]
      }
     ],
     "prompt_number": 3
    },
    {
     "cell_type": "code",
     "collapsed": false,
     "input": [
      "# Plot the magnitude of the signal\n",
      "plt.figure()\n",
      "ax1 = plt.subplot(211)\n",
      "ax1.plot(x, signal.real, 'b')\n",
      "\n",
      "ax2 = plt.subplot(212)\n",
      "ax2.plot(x, SIGNAL.real, 'b')\n",
      "ax2.set_xlim((0,1))\n",
      "\n",
      "# Get the partitions\n",
      "partitions = gft.partitions(N)\n",
      "\n",
      "# This is not working\n",
      "# For each partition, draw a line on the graph.  Since the partitions only indicate the\n",
      "# positive frequencies, we need to draw partitions on both sides of the DC\n",
      "\n",
      "for i in range(partitions.size):\n",
      "    ax2.axvline((N+2*i)/N, color='r', alpha=0.2)\n",
      "    ax2.axvline((N-2*i)/N, color='r', alpha=0.2)\n",
      "plt.show()"
     ],
     "language": "python",
     "metadata": {},
     "outputs": [
      {
       "metadata": {},
       "output_type": "display_data",
       "png": "[encoded data removed]",
       "text": [
        "<matplotlib.figure.Figure at 0x3882f90>"
       ]
      }
     ],
     "prompt_number": 4
    },
    {
     "cell_type": "markdown",
     "metadata": {},
     "source": [
      "Finally, interpolate the GFT spectrum and plot a spectrogram"
     ]
    },
    {
     "cell_type": "code",
     "collapsed": false,
     "input": [
      "plt.figure()\n",
      "plt.imshow(abs(gft.gft1dInterpolateNN(SIGNAL)))\n",
      "plt.show()"
     ],
     "language": "python",
     "metadata": {},
     "outputs": [
      {
       "metadata": {},
       "output_type": "display_data",
       "png": "[encoded data removed]",
       "text": [
        "<matplotlib.figure.Figure at 0x3882050>"
       ]
      }
     ],
     "prompt_number": 5
    },
    {
     "cell_type": "markdown",
     "metadata": {},
     "source": [
      "## 1D attempt\n",
      "\n",
      "Following [this document](http://www.mirrorservice.org/sites/downloads.sourceforge.net/f/fs/fst-uofc/README-Py.pdf)."
     ]
    },
    {
     "cell_type": "code",
     "collapsed": false,
     "input": [
      "syn = np.loadtxt('benchmark_signals/synthetic.txt')\n",
      "SYN = gft.gft1d(syn, 'gaussian')\n",
      "SYN"
     ],
     "language": "python",
     "metadata": {},
     "outputs": [
      {
       "metadata": {},
       "output_type": "pyout",
       "prompt_number": 6,
       "text": [
        "array([ 0.40429712+0.17552105j, -0.09675209-0.05918993j,\n",
        "        0.00072977-0.00167102j, ..., -0.00688487+0.00143456j,\n",
        "       -0.00353827+0.00164455j, -0.19792998+0.05953251j])"
       ]
      }
     ],
     "prompt_number": 6
    },
    {
     "cell_type": "code",
     "collapsed": false,
     "input": [
      "SYN.shape"
     ],
     "language": "python",
     "metadata": {},
     "outputs": [
      {
       "metadata": {},
       "output_type": "pyout",
       "prompt_number": 7,
       "text": [
        "(8192,)"
       ]
      }
     ],
     "prompt_number": 7
    },
    {
     "cell_type": "code",
     "collapsed": false,
     "input": [
      "plt.figure()\n",
      "plt.imshow(abs(gft.gft1dInterpolateNN(SYN)), interpolation='none')\n",
      "plt.show()"
     ],
     "language": "python",
     "metadata": {},
     "outputs": [
      {
       "metadata": {},
       "output_type": "display_data",
       "png": "[encoded data removed]",
       "text": [
        "<matplotlib.figure.Figure at 0x39c2450>"
       ]
      }
     ],
     "prompt_number": 8
    },
    {
     "cell_type": "code",
     "collapsed": false,
     "input": [
      "microseismic = np.loadtxt('benchmark_signals/microseismic.txt')\n",
      "MICRO = gft.gft1d(microseismic, 'gaussian')"
     ],
     "language": "python",
     "metadata": {},
     "outputs": [],
     "prompt_number": 11
    },
    {
     "cell_type": "code",
     "collapsed": false,
     "input": [
      "plt.figure()\n",
      "plt.imshow(abs(gft.gft1dInterpolateNN(MICRO)))\n",
      "plt.show()"
     ],
     "language": "python",
     "metadata": {},
     "outputs": [
      {
       "metadata": {},
       "output_type": "display_data",
       "png": "[encoded data removed]",
       "text": [
        "<matplotlib.figure.Figure at 0x3600c90>"
       ]
      }
     ],
     "prompt_number": 12
    },
    {
     "cell_type": "code",
     "collapsed": false,
     "input": [
      "import scipy.signal"
     ],
     "language": "python",
     "metadata": {},
     "outputs": [],
     "prompt_number": 13
    },
    {
     "cell_type": "code",
     "collapsed": false,
     "input": [
      "timebase = np.arange(0,6,0.001)\n",
      "f0 = 1.0\n",
      "t1 = 6.0\n",
      "f1 = 64.0\n",
      "ch = scipy.signal.chirp(timebase, f0, t1, f1, method='quadratic')"
     ],
     "language": "python",
     "metadata": {},
     "outputs": [],
     "prompt_number": 14
    }
   ],
   "metadata": {}
  }
 ]
}