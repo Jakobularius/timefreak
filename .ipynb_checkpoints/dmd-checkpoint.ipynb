{
 "metadata": {
  "name": "",
  "signature": "sha256:c7a47230677ea1de94c86b300f01c897991360b850d0403af8c75ac974b591fe"
 },
 "nbformat": 3,
 "nbformat_minor": 0,
 "worksheets": [
  {
   "cells": [
    {
     "cell_type": "markdown",
     "metadata": {},
     "source": [
      "#DMD\n",
      "\n",
      "Dynamic mode decomposition.\n",
      "\n",
      "- Mihailo Jovanovic et al\n",
      "- [Code on GitHub](http://github.com/aaren/sparse_dmd)"
     ]
    },
    {
     "cell_type": "code",
     "collapsed": false,
     "input": [
      "import sparse_dmd as sd"
     ],
     "language": "python",
     "metadata": {},
     "outputs": [],
     "prompt_number": 1
    },
    {
     "cell_type": "code",
     "collapsed": false,
     "input": [
      "import numpy as np"
     ],
     "language": "python",
     "metadata": {},
     "outputs": [],
     "prompt_number": 2
    },
    {
     "cell_type": "markdown",
     "metadata": {},
     "source": [
      "## Speech"
     ]
    },
    {
     "cell_type": "code",
     "collapsed": false,
     "input": [
      "speech = np.loadtxt('benchmark_signals/speech.txt')"
     ],
     "language": "python",
     "metadata": {},
     "outputs": [],
     "prompt_number": 3
    },
    {
     "cell_type": "code",
     "collapsed": false,
     "input": [
      "snapshots = sd.to_snaps(speech)\n",
      "dmd = sd.DMD(snapshots)\n",
      "dmd.compute()"
     ],
     "language": "python",
     "metadata": {},
     "outputs": [],
     "prompt_number": 4
    },
    {
     "cell_type": "code",
     "collapsed": false,
     "input": [
      "dmd.modes"
     ],
     "language": "python",
     "metadata": {},
     "outputs": [
      {
       "metadata": {},
       "output_type": "pyout",
       "prompt_number": 5,
       "text": [
        "array([[ 1.]])"
       ]
      }
     ],
     "prompt_number": 5
    },
    {
     "cell_type": "code",
     "collapsed": false,
     "input": [
      "dmd.amplitudes"
     ],
     "language": "python",
     "metadata": {},
     "outputs": [
      {
       "metadata": {},
       "output_type": "pyout",
       "prompt_number": 6,
       "text": [
        "array([-74.2772366+0.j])"
       ]
      }
     ],
     "prompt_number": 6
    },
    {
     "cell_type": "markdown",
     "metadata": {},
     "source": [
      "## Tremor"
     ]
    },
    {
     "cell_type": "code",
     "collapsed": false,
     "input": [
      "tremor = np.loadtxt('benchmark_signals/tremor.txt')"
     ],
     "language": "python",
     "metadata": {},
     "outputs": [],
     "prompt_number": 7
    },
    {
     "cell_type": "code",
     "collapsed": false,
     "input": [
      "snap_t = sd.to_snaps(tremor)\n",
      "dmd_t = sd.DMD(snap_t)\n",
      "\n",
      "# This bit fails for this dataset\n",
      "#dmd_t.compute()"
     ],
     "language": "python",
     "metadata": {},
     "outputs": [],
     "prompt_number": 8
    },
    {
     "cell_type": "code",
     "collapsed": false,
     "input": [
      "dmd_t"
     ],
     "language": "python",
     "metadata": {},
     "outputs": [
      {
       "metadata": {},
       "output_type": "pyout",
       "prompt_number": 9,
       "text": [
        "<sparse_dmd.sparse_dmd.DMD at 0x11191af10>"
       ]
      }
     ],
     "prompt_number": 9
    },
    {
     "cell_type": "markdown",
     "metadata": {},
     "source": [
      "##Synthetic"
     ]
    },
    {
     "cell_type": "code",
     "collapsed": false,
     "input": [
      "synthetic = np.loadtxt('benchmark_signals/synthetic.txt')"
     ],
     "language": "python",
     "metadata": {},
     "outputs": [],
     "prompt_number": 10
    },
    {
     "cell_type": "code",
     "collapsed": false,
     "input": [
      "snap_s = sd.to_snaps(synthetic)\n",
      "dmd_s = sd.DMD(snap_s)"
     ],
     "language": "python",
     "metadata": {},
     "outputs": [],
     "prompt_number": 11
    },
    {
     "cell_type": "code",
     "collapsed": false,
     "input": [
      "dmd_s.compute()"
     ],
     "language": "python",
     "metadata": {},
     "outputs": [],
     "prompt_number": 12
    },
    {
     "cell_type": "code",
     "collapsed": false,
     "input": [
      "dmd_s.modes"
     ],
     "language": "python",
     "metadata": {},
     "outputs": [
      {
       "metadata": {},
       "output_type": "pyout",
       "prompt_number": 13,
       "text": [
        "array([[-1.]])"
       ]
      }
     ],
     "prompt_number": 13
    },
    {
     "cell_type": "code",
     "collapsed": false,
     "input": [
      "dmd_s.amplitudes"
     ],
     "language": "python",
     "metadata": {},
     "outputs": [
      {
       "metadata": {},
       "output_type": "pyout",
       "prompt_number": 14,
       "text": [
        "array([-0.74198576+0.j])"
       ]
      }
     ],
     "prompt_number": 14
    },
    {
     "cell_type": "markdown",
     "metadata": {},
     "source": [
      "OK, just realizing that this algo is really for 2D timeseries \u2014\u00a0so should work on a seismic volume I think. Will try next..."
     ]
    },
    {
     "cell_type": "code",
     "collapsed": false,
     "input": [],
     "language": "python",
     "metadata": {},
     "outputs": []
    }
   ],
   "metadata": {}
  }
 ]
}