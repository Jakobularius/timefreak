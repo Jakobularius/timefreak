{
 "metadata": {
  "name": "",
  "signature": "sha256:0bc8dc95a61de8546151a4fdadcb90fa0244c70b18262a2ec6626e9557cec786"
 },
 "nbformat": 3,
 "nbformat_minor": 0,
 "worksheets": []
}