{
 "metadata": {
  "name": "",
  "signature": "sha256:3d437ebdf0e958eb2361cad44156f40592bb9d64cab9430f55235831db4ce11a"
 },
 "nbformat": 3,
 "nbformat_minor": 0,
 "worksheets": [
  {
   "cells": [
    {
     "cell_type": "code",
     "collapsed": false,
     "input": [
      "import math\n",
      "import pyaudio"
     ],
     "language": "python",
     "metadata": {},
     "outputs": [],
     "prompt_number": 1
    },
    {
     "cell_type": "markdown",
     "metadata": {},
     "source": [
      "This makes a sound!"
     ]
    },
    {
     "cell_type": "code",
     "collapsed": false,
     "input": [
      "PyAudio = pyaudio.PyAudio\n",
      "\n",
      "BITRATE = 24000 #number of frames per second/frameset.      \n",
      "FREQUENCY = 261.6 #Hz, waves per second, 261.63=C4-note.\n",
      "LENGTH = 1. #seconds to play sound\n",
      "\n",
      "NUMBEROFFRAMES = int(BITRATE * LENGTH)\n",
      "RESTFRAMES = NUMBEROFFRAMES % BITRATE\n",
      "WAVEDATA = ''    \n",
      "\n",
      "for x in xrange(NUMBEROFFRAMES):\n",
      " WAVEDATA = WAVEDATA+chr(int(math.sin(x/((BITRATE/FREQUENCY)/math.pi))*127+128))    \n",
      "\n",
      "#fill remainder of frameset with silence\n",
      "for x in xrange(RESTFRAMES): \n",
      " WAVEDATA = WAVEDATA+chr(128)\n",
      "\n",
      "p = PyAudio()\n",
      "stream = p.open(format = p.get_format_from_width(1), \n",
      "                channels = 1, \n",
      "                rate = BITRATE, \n",
      "                output = True)\n",
      "stream.write(WAVEDATA)\n",
      "stream.stop_stream()\n",
      "stream.close()\n",
      "p.terminate()"
     ],
     "language": "python",
     "metadata": {},
     "outputs": [],
     "prompt_number": 35
    },
    {
     "cell_type": "heading",
     "level": 2,
     "metadata": {},
     "source": [
      "Write a file"
     ]
    },
    {
     "cell_type": "code",
     "collapsed": false,
     "input": [
      "import numpy as np\n",
      "from matplotlib import pyplot as plt\n",
      "%matplotlib inline"
     ],
     "language": "python",
     "metadata": {},
     "outputs": [],
     "prompt_number": 38
    },
    {
     "cell_type": "code",
     "collapsed": false,
     "input": [
      "from struct import pack\n",
      "from math import sin, pi"
     ],
     "language": "python",
     "metadata": {},
     "outputs": [],
     "prompt_number": 1
    },
    {
     "cell_type": "code",
     "collapsed": false,
     "input": [
      "# create a sound file in AU format playing a sine wave\n",
      "# of a given frequency, duration and volume\n",
      "def au_file(name='test.au', freq=440, dur=1000, vol=0.5, lead=0, tail=0):\n",
      "    \"\"\"\n",
      "    creates an AU format sine wave audio file\n",
      "    of frequency freq (Hz)\n",
      "    of duration dur (milliseconds)\n",
      "    and volume vol (max is 1.0)\n",
      "    \"\"\"\n",
      "    fout = open(name, 'wb')\n",
      "    \n",
      "    total = lead + dur + tail\n",
      "    \n",
      "    values = []\n",
      "    \n",
      "    # header needs size, encoding=2, sampling_rate=8000, channel=1\n",
      "    fout.write(pack('>4s5L', '.snd'.encode(\"utf8\"), 24, 8*total, 2, 8000, 1))\n",
      "    factor = 2 * pi * freq/8000\n",
      "    \n",
      "    # write lead\n",
      "    for seg in range(8 * lead):\n",
      "        val = pack('b', 0)\n",
      "        fout.write(val)\n",
      "        values.append(0)\n",
      "        \n",
      "    # write data\n",
      "    for seg in range(8 * dur):\n",
      "        # sine wave calculations\n",
      "        sin_seg = sin(seg * factor)\n",
      "        v = vol * 127 * sin_seg\n",
      "        val = pack('b', int(v))\n",
      "        fout.write(val)\n",
      "        values.append(v)\n",
      "        \n",
      "    # write tail\n",
      "    for seg in range(8 * tail):\n",
      "        val = pack('b', 0)\n",
      "        fout.write(val)\n",
      "        values.append(0)\n",
      "        \n",
      "    fout.close()\n",
      "    print(\"File %s written\" % name)\n",
      "    \n",
      "    return values"
     ],
     "language": "python",
     "metadata": {},
     "outputs": [],
     "prompt_number": 33
    },
    {
     "cell_type": "code",
     "collapsed": false,
     "input": [
      "sound = au_file(name='sound440_2.au', freq=150, dur=500, vol=1.0, lead=500, tail=500)"
     ],
     "language": "python",
     "metadata": {},
     "outputs": [
      {
       "output_type": "stream",
       "stream": "stdout",
       "text": [
        "File sound440_2.au written\n"
       ]
      }
     ],
     "prompt_number": 37
    },
    {
     "cell_type": "code",
     "collapsed": false,
     "input": [
      "plt.figure(figsize=(20,4))\n",
      "plt.plot(sound)\n",
      "plt.show()"
     ],
     "language": "python",
     "metadata": {},
     "outputs": [
      {
       "metadata": {},
       "output_type": "display_data",
       "png": "[encoded data removed]",
       "text": [
        "<matplotlib.figure.Figure at 0x107d23650>"
       ]
      }
     ],
     "prompt_number": 39
    },
    {
     "cell_type": "code",
     "collapsed": false,
     "input": [],
     "language": "python",
     "metadata": {},
     "outputs": []
    }
   ],
   "metadata": {}
  }
 ]
}