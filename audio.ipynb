{
 "metadata": {
  "name": "",
  "signature": "sha256:65f830a037742595673807c8394120ca38ea7c0f38729f9cd7ea6f5b3a355a2a"
 },
 "nbformat": 3,
 "nbformat_minor": 0,
 "worksheets": [
  {
   "cells": [
    {
     "cell_type": "code",
     "collapsed": false,
     "input": [
      "import math\n",
      "import pyaudio"
     ],
     "language": "python",
     "metadata": {},
     "outputs": [],
     "prompt_number": 1
    },
    {
     "cell_type": "markdown",
     "metadata": {},
     "source": [
      "This makes a sound!"
     ]
    },
    {
     "cell_type": "code",
     "collapsed": false,
     "input": [
      "PyAudio = pyaudio.PyAudio\n",
      "\n",
      "BITRATE = 24000 #number of frames per second/frameset.      \n",
      "FREQUENCY = 261.6 #Hz, waves per second, 261.63=C4-note.\n",
      "LENGTH = 1. #seconds to play sound\n",
      "\n",
      "NUMBEROFFRAMES = int(BITRATE * LENGTH)\n",
      "RESTFRAMES = NUMBEROFFRAMES % BITRATE\n",
      "WAVEDATA = ''    \n",
      "\n",
      "for x in xrange(NUMBEROFFRAMES):\n",
      " WAVEDATA = WAVEDATA+chr(int(math.sin(x/((BITRATE/FREQUENCY)/math.pi))*127+128))    \n",
      "\n",
      "#fill remainder of frameset with silence\n",
      "for x in xrange(RESTFRAMES): \n",
      " WAVEDATA = WAVEDATA+chr(128)\n",
      "\n",
      "p = PyAudio()\n",
      "stream = p.open(format = p.get_format_from_width(1), \n",
      "                channels = 1, \n",
      "                rate = BITRATE, \n",
      "                output = True)\n",
      "stream.write(WAVEDATA)\n",
      "stream.stop_stream()\n",
      "stream.close()\n",
      "p.terminate()"
     ],
     "language": "python",
     "metadata": {},
     "outputs": [],
     "prompt_number": 35
    },
    {
     "cell_type": "code",
     "collapsed": false,
     "input": [],
     "language": "python",
     "metadata": {},
     "outputs": []
    }
   ],
   "metadata": {}
  }
 ]
}